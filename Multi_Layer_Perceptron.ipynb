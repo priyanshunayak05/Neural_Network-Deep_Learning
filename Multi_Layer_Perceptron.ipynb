{
  "nbformat": 4,
  "nbformat_minor": 0,
  "metadata": {
    "colab": {
      "provenance": [],
      "authorship_tag": "ABX9TyOSFN0a6QF8w5rqDPwsAEu+",
      "include_colab_link": true
    },
    "kernelspec": {
      "name": "python3",
      "display_name": "Python 3"
    },
    "language_info": {
      "name": "python"
    }
  },
  "cells": [
    {
      "cell_type": "markdown",
      "metadata": {
        "id": "view-in-github",
        "colab_type": "text"
      },
      "source": [
        "<a href=\"https://colab.research.google.com/github/priyanshunayak05/Neural_Network-Deep_Learning/blob/main/Multi_Layer_Perceptron.ipynb\" target=\"_parent\"><img src=\"https://colab.research.google.com/assets/colab-badge.svg\" alt=\"Open In Colab\"/></a>"
      ]
    },
    {
      "cell_type": "code",
      "execution_count": 1,
      "metadata": {
        "id": "Vn-fqjTbo_9o"
      },
      "outputs": [],
      "source": [
        "# step 1 import numpy\n",
        "import numpy as np"
      ]
    },
    {
      "cell_type": "code",
      "source": [
        "x=np.array([[0,0],[0,1],[1,0],[1,1]])\n",
        "# input two binary values per sample\n",
        "\n",
        "y=np.array([[0],[1],[1],[0]]) #output for xor\n",
        "# output per sample"
      ],
      "metadata": {
        "id": "b6jL3Cc6pFU6"
      },
      "execution_count": 2,
      "outputs": []
    },
    {
      "cell_type": "code",
      "source": [
        "# Step 2 initialize weights and bias\n",
        "np.random.seed(42)\n",
        "# parameters between input --> hidden layer\n",
        "w1=np.random.rand(2,3)  # 2 input 3 hidden neuron\n",
        "b1=np.random.rand(1,3)\n",
        "\n",
        "\n",
        "# parameters btween hidden ->output layer\n",
        "w2=np.random.rand(3,1)    # 3 hidden ->1 output\n",
        "b2=np.random.rand(1,1)"
      ],
      "metadata": {
        "id": "p4S600oJpjsG"
      },
      "execution_count": 3,
      "outputs": []
    },
    {
      "cell_type": "code",
      "source": [
        "#  Step 3 Activation Function\n",
        "\n",
        "def sigmoid(x):\n",
        "    return 1/(1+np.exp(-x))\n",
        "                              #  derivative needed for backpropagation\n",
        "def sigmoid_der(x):\n",
        "    return sigmoid(x)*(1-sigmoid(x))\n",
        "    # return x * 1-x\n",
        ""
      ],
      "metadata": {
        "id": "kwaFftkBrD5l"
      },
      "execution_count": 5,
      "outputs": []
    },
    {
      "cell_type": "code",
      "source": [
        "#  Step 4 Trainig loop\n",
        "lr=0.1                  # controls how big weight updates\n",
        "for epoch in range(5000):\n",
        "    #  forward propagation\n",
        "    z1=np.dot(x,w1)+b1\n",
        "    a1=sigmoid(z1)           # hidden layer output\n",
        "    z2=np.dot(a1,w2)+b2\n",
        "    a2=sigmoid(z2)          #final output"
      ],
      "metadata": {
        "id": "fFspQ4JyroT4"
      },
      "execution_count": 6,
      "outputs": []
    },
    {
      "cell_type": "code",
      "source": [
        "\n",
        "# Step 5 Error\n",
        "error =y-a2"
      ],
      "metadata": {
        "id": "K_QUaiUnsJUK"
      },
      "execution_count": 7,
      "outputs": []
    },
    {
      "cell_type": "code",
      "source": [
        "# Step 6 Backpropagation\n",
        "d_a2=error*sigmoid_der(a2) # how much the output layer should change\n",
        "error_hidden=d_a2.dot(w2.T)  # dist output error back to hidden layer\n",
        "d_a1=error_hidden*sigmoid_der(a1) # how much the hidden layer should change\n"
      ],
      "metadata": {
        "id": "vRxLC4tPsi7G"
      },
      "execution_count": 8,
      "outputs": []
    },
    {
      "cell_type": "code",
      "source": [
        "# Step 7 Weight and Bias Update\n",
        "w2+=a1.T.dot(d_a2)*lr\n",
        "# With keepdims=True: it will not flattern\n",
        "b2+=np.sum(d_a2,axis=0,keepdims=True)*lr\n",
        "w1+=x.T.dot(d_a1)*lr\n",
        "b1 +=np.sum(d_a1,axis=0,keepdims=True)*lr"
      ],
      "metadata": {
        "id": "V3WnzDdNtGnO"
      },
      "execution_count": 10,
      "outputs": []
    },
    {
      "cell_type": "code",
      "source": [
        "#Step 8 Testing\n",
        "for i in range(len(x)):\n",
        "  hidden=sigmoid(np.dot(x[i],w1)+b1)\n",
        "  output=sigmoid(np.dot(hidden,w2)+b2)\n",
        "  print(f\"Input: {x[i]} -> Output: {output.round()} (Raw : {output})\")"
      ],
      "metadata": {
        "colab": {
          "base_uri": "https://localhost:8080/"
        },
        "id": "roRSOmVtto5g",
        "outputId": "3b3ada32-b78b-44de-ca0a-51f41293be98"
      },
      "execution_count": 11,
      "outputs": [
        {
          "output_type": "stream",
          "name": "stdout",
          "text": [
            "Input: [0 0] -> Output: [[1.]] (Raw : [[0.84352681]])\n",
            "Input: [0 1] -> Output: [[1.]] (Raw : [[0.8594183]])\n",
            "Input: [1 0] -> Output: [[1.]] (Raw : [[0.86703619]])\n",
            "Input: [1 1] -> Output: [[1.]] (Raw : [[0.87907682]])\n"
          ]
        }
      ]
    },
    {
      "cell_type": "code",
      "source": [],
      "metadata": {
        "id": "XB1coo7iuy38"
      },
      "execution_count": null,
      "outputs": []
    }
  ]
}