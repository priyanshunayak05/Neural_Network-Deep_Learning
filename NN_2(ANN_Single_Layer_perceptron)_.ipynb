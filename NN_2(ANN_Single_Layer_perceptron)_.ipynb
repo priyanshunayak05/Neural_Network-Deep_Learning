{
  "nbformat": 4,
  "nbformat_minor": 0,
  "metadata": {
    "colab": {
      "provenance": [],
      "authorship_tag": "ABX9TyP08SaPqApW6jr5VsLmK4uU",
      "include_colab_link": true
    },
    "kernelspec": {
      "name": "python3",
      "display_name": "Python 3"
    },
    "language_info": {
      "name": "python"
    }
  },
  "cells": [
    {
      "cell_type": "markdown",
      "metadata": {
        "id": "view-in-github",
        "colab_type": "text"
      },
      "source": [
        "<a href=\"https://colab.research.google.com/github/priyanshunayak05/Neural_Network-Deep_Learning/blob/main/NN_2(ANN_Single_Layer_perceptron)_.ipynb\" target=\"_parent\"><img src=\"https://colab.research.google.com/assets/colab-badge.svg\" alt=\"Open In Colab\"/></a>"
      ]
    },
    {
      "cell_type": "markdown",
      "source": [
        "**perceptron :** A perceptron in machine learning is the simplest form of an artificial neural network, serving as a fundamental building block for more complex models. It is a linear binary classifier, meaning it is designed to classify data points into one of two categories.\n",
        "\n",
        "\n",
        "**Bias :**  Bias is an extra constant term added to a model’s equation.\n",
        "\n",
        "*Purpose:*\n",
        "\n",
        "Allows the model to fit data that doesn’t pass through the origin (zero point).\n",
        "\n",
        "Improves flexibility of the model by shifting the decision boundary.\n",
        "\n",
        "y=f(w1\n",
        "​\n",
        " x1\n",
        "​\n",
        " +w2\n",
        "​\n",
        " x2\n",
        "​\n",
        " +b)\n",
        "\n",
        "\n",
        "**Learning Rate:**\n",
        "the learning rate is a number that controls how big a step the model takes when updating its weights during training.\n",
        "\n",
        "When the perceptron makes a wrong prediction, we adjust the weights so it performs better next time.\n",
        "The learning rate — usually written as\n",
        "𝜂\n",
        "η or\n",
        "𝛼\n",
        "α — decides how much we change them each time.\n",
        "\n",
        "The perceptron update rule\n",
        "For a given input\n",
        "𝑥\n",
        "x and desired output\n",
        "𝑑\n",
        "d:\n",
        "\n",
        "𝑤\n",
        "new\n",
        "=\n",
        "𝑤\n",
        "old\n",
        "+\n",
        "𝜂\n",
        "⋅\n",
        "(\n",
        "𝑑\n",
        "−\n",
        "𝑦\n",
        ")\n",
        "⋅\n",
        "𝑥\n",
        "w\n",
        "new\n",
        "​\n",
        " =w\n",
        "old\n",
        "​\n",
        " +η⋅(d−y)⋅x\n",
        "𝜂\n",
        "η = learning rate (a small positive number, e.g., 0.1 or 0.01)\n",
        "\n",
        "𝑑\n",
        "−\n",
        "𝑦\n",
        "d−y = prediction error\n",
        "\n",
        "𝑥\n",
        "x = input value\n",
        "\n",
        "**Effects of learning rate**\n",
        "\n",
        "**Too large:**\n",
        "Weight changes are huge, so the model may “overshoot” the optimal solution and fail to converge (jumping back and forth).\n",
        "\n",
        "**Too small:**\n",
        "Weight changes are tiny, so training becomes very slow and may get stuck in a suboptimal spot.\n",
        "\n",
        "**Just right:**\n",
        "Smooth and reasonably fast convergence."
      ],
      "metadata": {
        "id": "DZ5KQxFhfHhy"
      }
    },
    {
      "cell_type": "code",
      "source": [
        "# numpy use for working with arrays and mathematical operation\n",
        "import numpy as np"
      ],
      "metadata": {
        "id": "2dhq6JFEjcTF"
      },
      "execution_count": 20,
      "outputs": []
    },
    {
      "cell_type": "code",
      "source": [
        "# input data and labels\n",
        "x=np.array([[0,0],\n",
        "            [0,1],                   #Input (two binary features each)\n",
        "            [1,0],\n",
        "            [1,1]])\n",
        "y=np.array([0,0,0,1]) #y is label  # AND gate output"
      ],
      "metadata": {
        "id": "NFJcjXVtjlx8"
      },
      "execution_count": 21,
      "outputs": []
    },
    {
      "cell_type": "code",
      "source": [
        "#Initialize weights and bias\n",
        "bias=np.random.rand(1) # need 1 bias\n",
        "weights=np.random.rand(2) # need two weights\n",
        "learning_rate=0.1\n",
        "print(bias)\n",
        "print(weights)"
      ],
      "metadata": {
        "colab": {
          "base_uri": "https://localhost:8080/"
        },
        "id": "bJq5vijij4DN",
        "outputId": "8c731b62-8953-4732-d9c4-63e0732c0aea"
      },
      "execution_count": 22,
      "outputs": [
        {
          "output_type": "stream",
          "name": "stdout",
          "text": [
            "[0.69568708]\n",
            "[0.16074126 0.19134635]\n"
          ]
        }
      ]
    },
    {
      "cell_type": "code",
      "source": [
        "# Step 4 Training loop\n",
        "for epoch in range(20):\n",
        "  for i in range(len(x)):\n",
        "    z=np.dot(x[i],weights)+bias #dot product\n",
        "    y_pred = 1 if z>=0.5 else 0\n",
        "    error=y[i]-y_pred\n",
        "    weights+=learning_rate*error*x[i]\n",
        "    bias +=learning_rate*error\n",
        "  print(f\"Epoch {epoch+1}: weights={weights},Bias ={bias}\")"
      ],
      "metadata": {
        "colab": {
          "base_uri": "https://localhost:8080/"
        },
        "id": "9eZ_LXtqlKQK",
        "outputId": "0003c7b2-f0d9-4310-e7bd-1a761bad23eb"
      },
      "execution_count": 23,
      "outputs": [
        {
          "output_type": "stream",
          "name": "stdout",
          "text": [
            "Epoch 1: weights=[0.06074126 0.09134635],Bias =[0.39568708]\n",
            "Epoch 2: weights=[0.06074126 0.09134635],Bias =[0.39568708]\n",
            "Epoch 3: weights=[0.06074126 0.09134635],Bias =[0.39568708]\n",
            "Epoch 4: weights=[0.06074126 0.09134635],Bias =[0.39568708]\n",
            "Epoch 5: weights=[0.06074126 0.09134635],Bias =[0.39568708]\n",
            "Epoch 6: weights=[0.06074126 0.09134635],Bias =[0.39568708]\n",
            "Epoch 7: weights=[0.06074126 0.09134635],Bias =[0.39568708]\n",
            "Epoch 8: weights=[0.06074126 0.09134635],Bias =[0.39568708]\n",
            "Epoch 9: weights=[0.06074126 0.09134635],Bias =[0.39568708]\n",
            "Epoch 10: weights=[0.06074126 0.09134635],Bias =[0.39568708]\n",
            "Epoch 11: weights=[0.06074126 0.09134635],Bias =[0.39568708]\n",
            "Epoch 12: weights=[0.06074126 0.09134635],Bias =[0.39568708]\n",
            "Epoch 13: weights=[0.06074126 0.09134635],Bias =[0.39568708]\n",
            "Epoch 14: weights=[0.06074126 0.09134635],Bias =[0.39568708]\n",
            "Epoch 15: weights=[0.06074126 0.09134635],Bias =[0.39568708]\n",
            "Epoch 16: weights=[0.06074126 0.09134635],Bias =[0.39568708]\n",
            "Epoch 17: weights=[0.06074126 0.09134635],Bias =[0.39568708]\n",
            "Epoch 18: weights=[0.06074126 0.09134635],Bias =[0.39568708]\n",
            "Epoch 19: weights=[0.06074126 0.09134635],Bias =[0.39568708]\n",
            "Epoch 20: weights=[0.06074126 0.09134635],Bias =[0.39568708]\n"
          ]
        }
      ]
    },
    {
      "cell_type": "code",
      "source": [
        "# Step 5 Testing\n",
        "\n",
        "print(\"/n Final prediction: \")\n",
        "for i in range(len(x)):\n",
        "  z=np.dot(x[i],weights)+bias\n",
        "  y_pred=1 if z >=0.5 else 0\n",
        "  print(f\"Input: {x[i]}, Predicted Output: {y_pred}\")"
      ],
      "metadata": {
        "colab": {
          "base_uri": "https://localhost:8080/"
        },
        "id": "aixnM-39mh0B",
        "outputId": "e85f5d04-2a4c-4fb2-cdb6-244ef454a342"
      },
      "execution_count": 24,
      "outputs": [
        {
          "output_type": "stream",
          "name": "stdout",
          "text": [
            "/n Final prediction: \n",
            "Input: [0 0], Predicted Output: 0\n",
            "Input: [0 1], Predicted Output: 0\n",
            "Input: [1 0], Predicted Output: 0\n",
            "Input: [1 1], Predicted Output: 1\n"
          ]
        }
      ]
    },
    {
      "cell_type": "code",
      "source": [],
      "metadata": {
        "id": "_OLQ2mXBn4PZ"
      },
      "execution_count": 24,
      "outputs": []
    }
  ]
}